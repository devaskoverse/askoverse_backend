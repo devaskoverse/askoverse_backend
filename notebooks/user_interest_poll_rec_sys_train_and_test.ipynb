{
 "cells": [
  {
   "cell_type": "code",
   "execution_count": 1,
   "metadata": {},
   "outputs": [],
   "source": [
    "import requests\n",
    "import json"
   ]
  },
  {
   "cell_type": "code",
   "execution_count": null,
   "metadata": {},
   "outputs": [],
   "source": [
    "# train the system manually\n",
    "\n",
    "response = requests.post(\"https://us-central1-askoverse-app.cloudfunctions.net/train_poll_hashtags_kmeans_model\")\n",
    "response.content"
   ]
  },
  {
   "cell_type": "code",
   "execution_count": null,
   "metadata": {},
   "outputs": [],
   "source": [
    "# test the system \n",
    "\n",
    "# input test user_id and no of polls to recommend \n",
    "user_id = \"103322974267432713508\"\n",
    "no_of_polls = 10\n",
    "\n",
    "\n",
    "cloud_function_url = \"https://us-central1-askoverse-app.cloudfunctions.net/recommend_user_interest_polls\"\n",
    "# JSON payload\n",
    "payload = {\n",
    "    \"user_id\": user_id,\n",
    "    \"no_of_polls\":no_of_polls,\n",
    "\n",
    "}\n",
    "\n",
    "headers = {\n",
    "    \"Content-Type\": \"application/json\"\n",
    "}\n",
    "\n",
    "# Send POST request\n",
    "response = requests.post(cloud_function_url, headers=headers, data=json.dumps(payload))\n",
    "\n",
    "# Print response\n",
    "if response.status_code == 200:\n",
    "    print(\"Response:\", response.json())\n",
    "else:\n",
    "    print(\"Error:\", response.text)\n"
   ]
  }
 ],
 "metadata": {
  "kernelspec": {
   "display_name": "venv",
   "language": "python",
   "name": "python3"
  },
  "language_info": {
   "codemirror_mode": {
    "name": "ipython",
    "version": 3
   },
   "file_extension": ".py",
   "mimetype": "text/x-python",
   "name": "python",
   "nbconvert_exporter": "python",
   "pygments_lexer": "ipython3",
   "version": "3.10.12"
  }
 },
 "nbformat": 4,
 "nbformat_minor": 2
}
